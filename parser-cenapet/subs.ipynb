{
 "cells": [
  {
   "cell_type": "code",
   "execution_count": 1,
   "metadata": {},
   "outputs": [],
   "source": [
    "import pandas as pd\n",
    "\n",
    "df = pd.read_csv('cenapet (copie).csv')"
   ]
  },
  {
   "cell_type": "code",
   "execution_count": 2,
   "metadata": {},
   "outputs": [],
   "source": [
    "df['Cidade'] = df['Cidade'].apply(lambda x: x.rstrip().replace(' ', '_'))"
   ]
  },
  {
   "cell_type": "code",
   "execution_count": 3,
   "metadata": {},
   "outputs": [
    {
     "data": {
      "text/html": [
       "<div>\n",
       "<style scoped>\n",
       "    .dataframe tbody tr th:only-of-type {\n",
       "        vertical-align: middle;\n",
       "    }\n",
       "\n",
       "    .dataframe tbody tr th {\n",
       "        vertical-align: top;\n",
       "    }\n",
       "\n",
       "    .dataframe thead th {\n",
       "        text-align: right;\n",
       "    }\n",
       "</style>\n",
       "<table border=\"1\" class=\"dataframe\">\n",
       "  <thead>\n",
       "    <tr style=\"text-align: right;\">\n",
       "      <th></th>\n",
       "      <th>Nome</th>\n",
       "      <th>Universidade</th>\n",
       "      <th>Campus</th>\n",
       "      <th>Cidade</th>\n",
       "      <th>Email</th>\n",
       "      <th>Site</th>\n",
       "      <th>Eixo</th>\n",
       "      <th>Temática</th>\n",
       "      <th>Ano de criação</th>\n",
       "      <th>Instagram</th>\n",
       "      <th>Facebook</th>\n",
       "      <th>Twitter</th>\n",
       "      <th>YouTube</th>\n",
       "      <th>Estado</th>\n",
       "      <th>Site na instituição</th>\n",
       "    </tr>\n",
       "  </thead>\n",
       "  <tbody>\n",
       "    <tr>\n",
       "      <th>0</th>\n",
       "      <td>PET Bacharelado em Ciência da Computação</td>\n",
       "      <td>Universidade Federal de São Carlos</td>\n",
       "      <td>Campus São Carlos</td>\n",
       "      <td>São_Carlos</td>\n",
       "      <td>petbcc@ufscar.br</td>\n",
       "      <td>petbcc.ufscar.br</td>\n",
       "      <td>Ciências Exatas e da Terra</td>\n",
       "      <td>Desenvolvimento de Software</td>\n",
       "      <td>2009</td>\n",
       "      <td>https://instagram.com/petbcc.ufscar</td>\n",
       "      <td>https://fb.com/petbcc</td>\n",
       "      <td>https://twitter.com/petbcc</td>\n",
       "      <td>https://www.youtube.com/channel/UCyoSac6aP0aGW...</td>\n",
       "      <td>SP</td>\n",
       "      <td>NaN</td>\n",
       "    </tr>\n",
       "    <tr>\n",
       "      <th>1</th>\n",
       "      <td>PET Tecnologias em Saúde</td>\n",
       "      <td>Universidade Federal de São Paulo</td>\n",
       "      <td>Campus São Paulo</td>\n",
       "      <td>São_Paulo</td>\n",
       "      <td>pet.tecnologias@unifesp.br</td>\n",
       "      <td>pet-tecnologias.blogspot.com/</td>\n",
       "      <td>Interdisciplinar</td>\n",
       "      <td>Estudo das Ciências Exatas aplicadas ao corpo ...</td>\n",
       "      <td>2013</td>\n",
       "      <td>https://instagram.com/pettecnologias</td>\n",
       "      <td>https://www.facebook.com/PET.Tecnologias</td>\n",
       "      <td>NaN</td>\n",
       "      <td>https://www.youtube.com/channel/UCQAbQRCOE0Ygl...</td>\n",
       "      <td>SP</td>\n",
       "      <td>www.unifesp.br/reitoria/prograd/programas-inst...</td>\n",
       "    </tr>\n",
       "  </tbody>\n",
       "</table>\n",
       "</div>"
      ],
      "text/plain": [
       "                                       Nome  \\\n",
       "0  PET Bacharelado em Ciência da Computação   \n",
       "1                  PET Tecnologias em Saúde   \n",
       "\n",
       "                         Universidade             Campus      Cidade  \\\n",
       "0  Universidade Federal de São Carlos  Campus São Carlos  São_Carlos   \n",
       "1   Universidade Federal de São Paulo   Campus São Paulo   São_Paulo   \n",
       "\n",
       "                        Email                           Site  \\\n",
       "0            petbcc@ufscar.br               petbcc.ufscar.br   \n",
       "1  pet.tecnologias@unifesp.br  pet-tecnologias.blogspot.com/   \n",
       "\n",
       "                         Eixo  \\\n",
       "0  Ciências Exatas e da Terra   \n",
       "1            Interdisciplinar   \n",
       "\n",
       "                                            Temática  Ano de criação  \\\n",
       "0                        Desenvolvimento de Software            2009   \n",
       "1  Estudo das Ciências Exatas aplicadas ao corpo ...            2013   \n",
       "\n",
       "                              Instagram  \\\n",
       "0   https://instagram.com/petbcc.ufscar   \n",
       "1  https://instagram.com/pettecnologias   \n",
       "\n",
       "                                   Facebook                     Twitter  \\\n",
       "0                     https://fb.com/petbcc  https://twitter.com/petbcc   \n",
       "1  https://www.facebook.com/PET.Tecnologias                         NaN   \n",
       "\n",
       "                                             YouTube Estado  \\\n",
       "0  https://www.youtube.com/channel/UCyoSac6aP0aGW...     SP   \n",
       "1  https://www.youtube.com/channel/UCQAbQRCOE0Ygl...     SP   \n",
       "\n",
       "                                 Site na instituição  \n",
       "0                                                NaN  \n",
       "1  www.unifesp.br/reitoria/prograd/programas-inst...  "
      ]
     },
     "execution_count": 3,
     "metadata": {},
     "output_type": "execute_result"
    }
   ],
   "source": [
    "df.head(2)"
   ]
  },
  {
   "cell_type": "code",
   "execution_count": 9,
   "metadata": {},
   "outputs": [],
   "source": [
    "from selenium import webdriver\n",
    "from selenium.webdriver.common.by import By\n",
    "from selenium.webdriver.support.wait import WebDriverWait\n",
    "from selenium.webdriver.support import expected_conditions as EC\n",
    "\n",
    "driver = webdriver.Firefox()\n",
    "\n",
    "unis = df['Universidade'].to_list()"
   ]
  },
  {
   "cell_type": "code",
   "execution_count": 5,
   "metadata": {},
   "outputs": [],
   "source": [
    "import wikipedia"
   ]
  },
  {
   "cell_type": "code",
   "execution_count": 6,
   "metadata": {},
   "outputs": [],
   "source": [
    "universidades_data = []\n",
    "for u in unis:\n",
    "    uni = {}\n",
    "    uni['name'] = u\n",
    "\n",
    "    try:\n",
    "        p = wikipedia.page(u)\n",
    "        uni['wikipedia_title'] = p.title\n",
    "        uni['wikipedia_url'] = p.url\n",
    "    except:\n",
    "        uni['wikipedia_title'] = ''\n",
    "        uni['wikipedia_url'] = ''\n",
    "\n",
    "    universidades_data.append(uni)"
   ]
  },
  {
   "cell_type": "code",
   "execution_count": 11,
   "metadata": {},
   "outputs": [],
   "source": [
    "for uni in universidades_data:\n",
    "    try:\n",
    "        driver.get(uni['wikipedia_url'])\n",
    "        element = WebDriverWait(driver, 5).until(\n",
    "            EC.presence_of_element_located((By.XPATH, '//*[@id=\"t-wikibase\"]'))\n",
    "        )\n",
    "        \n",
    "        uni['wikidata_id'] = element.find_element(By.CSS_SELECTOR, 'a').get_attribute('href').split('/')[-1]\n",
    "    except:\n",
    "        uni['wikidata_id'] = ''"
   ]
  },
  {
   "cell_type": "code",
   "execution_count": 13,
   "metadata": {},
   "outputs": [],
   "source": [
    "from wikidata.client import Client\n",
    "\n",
    "client = Client()  # doctest: +SKIP\n",
    "\n",
    "for uni in universidades_data:\n",
    "    if uni['wikidata_id'] != '':\n",
    "        entity = client.get(uni['wikidata_id'], load=True)\n",
    "\n",
    "        if not (uni['name'].lower() == str(entity.label.texts['pt']).lower()):\n",
    "            uni['wikidata_id'] = ''\n",
    "\n"
   ]
  },
  {
   "cell_type": "code",
   "execution_count": null,
   "metadata": {},
   "outputs": [],
   "source": [
    "df_names = pd.read_csv('random_names.csv')"
   ]
  },
  {
   "cell_type": "code",
   "execution_count": null,
   "metadata": {},
   "outputs": [],
   "source": [
    "import random\n",
    "\n",
    "df_names['GrupoPET'] = df_names['Membro'].apply(lambda x: df.iloc[0, randint(0,291)])"
   ]
  },
  {
   "cell_type": "code",
   "execution_count": null,
   "metadata": {},
   "outputs": [],
   "source": [
    "df.to_csv('cenapet (copie).csv', index=False)"
   ]
  }
 ],
 "metadata": {
  "kernelspec": {
   "display_name": "Python 3",
   "language": "python",
   "name": "python3"
  },
  "language_info": {
   "codemirror_mode": {
    "name": "ipython",
    "version": 3
   },
   "file_extension": ".py",
   "mimetype": "text/x-python",
   "name": "python",
   "nbconvert_exporter": "python",
   "pygments_lexer": "ipython3",
   "version": "3.10.6 (main, Nov 14 2022, 16:10:14) [GCC 11.3.0]"
  },
  "orig_nbformat": 4,
  "vscode": {
   "interpreter": {
    "hash": "916dbcbb3f70747c44a77c7bcd40155683ae19c65e1c03b4aa3499c5328201f1"
   }
  }
 },
 "nbformat": 4,
 "nbformat_minor": 2
}
